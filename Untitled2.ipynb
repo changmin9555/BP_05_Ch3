{
  "nbformat": 4,
  "nbformat_minor": 0,
  "metadata": {
    "colab": {
      "provenance": []
    },
    "kernelspec": {
      "name": "python3",
      "display_name": "Python 3"
    },
    "language_info": {
      "name": "python"
    }
  },
  "cells": [
    {
      "cell_type": "markdown",
      "source": [
        "1.사용자로부터 두 개의 정수를 받아 정수의 합 정수의 차 정수의 곱 졍수의 펑균, 큰 수 작은 수를 계산하여 화면에 출력하는 프로그램을 작성하라 파이썬이 제공하는 내장 함수 max(x, y), min(x, y)을 사용해보자.\n"
      ],
      "metadata": {
        "id": "26xaazQ5KT51"
      }
    },
    {
      "cell_type": "code",
      "execution_count": null,
      "metadata": {
        "colab": {
          "base_uri": "https://localhost:8080/"
        },
        "id": "Xq4O24prJcP6",
        "outputId": "b47d6bc1-11b9-4d79-ed0b-43cb9b1721bb"
      },
      "outputs": [
        {
          "output_type": "stream",
          "name": "stdout",
          "text": [
            "x의 값은?: 9\n",
            "y의 값은?: 6\n",
            "두 수의 합은 : 15\n",
            "두 수의 차는 : 3\n",
            "두 수의 곱는 : 54\n",
            "두 수의 평균 : 7.5\n",
            "큰 수는? 9\n",
            "작은 수는? 6\n"
          ]
        }
      ],
      "source": [
        "x = int(input(\"x의 값은?: \"))\n",
        "y = int(input(\"y의 값은?: \"))\n",
        "\n",
        "print(\"두 수의 합은 :\", x + y)\n",
        "print(\"두 수의 차는 :\", x - y)\n",
        "print(\"두 수의 곱는 :\", x * y)\n",
        "print(\"두 수의 평균 :\", (x + y)/2)\n",
        "print(\"큰 수는?\", max(x,y))\n",
        "print(\"작은 수는?\", min(x,y))\n"
      ]
    },
    {
      "cell_type": "markdown",
      "source": [
        "2 원기둥의 부피를 계산하는 프로그램을 작성해보자. 원기둥의 부피는 다음과 같이 계산한다\n"
      ],
      "metadata": {
        "id": "O0p-eBjvKWEU"
      }
    },
    {
      "cell_type": "code",
      "source": [
        "#손창민\n",
        "r = float(input(\"r의 값은?\"))\n",
        "h = float(input(\"h의 값은?\"))\n",
        "vol = 3.141592 * r**2 * h\n",
        "print(\"원기둥의 부피:\", vol)"
      ],
      "metadata": {
        "colab": {
          "base_uri": "https://localhost:8080/"
        },
        "id": "b3OI-3WHKWXX",
        "outputId": "8fac3ffe-2eeb-48cc-8ebc-53bbcd834943"
      },
      "execution_count": null,
      "outputs": [
        {
          "output_type": "stream",
          "name": "stdout",
          "text": [
            "r의 값은?10\n",
            "h의 값은?100\n",
            "원기둥의 부피: 31415.92\n"
          ]
        }
      ]
    },
    {
      "cell_type": "markdown",
      "source": [
        "3 사용자로부터 정수를 받아 내 정수의 자러수의 합을 계산하는 프로그램을 작성하여 보자. 예릍 들어서 사용자가 1234를 입럭하였다면 1+2+3+4를 계산하면 된다 나머지 연산자와 정수 나눗셈 연산자를 적극적으로 사용해보자"
      ],
      "metadata": {
        "id": "xC-f8axJKWj4"
      }
    },
    {
      "cell_type": "code",
      "source": [
        "number =  int(input(\"정수를 입력하시오. :\"))\n",
        "\n",
        "sum = 0\n",
        "sum = sum + number % 10\n",
        "number = number // 10\n",
        "\n",
        "sum = sum + number % 10\n",
        "number = number // 10\n",
        "\n",
        "sum = sum + number % 10\n",
        "number = number // 10\n",
        "\n",
        "sum = sum + number % 10\n",
        "number = number // 10\n",
        "\n",
        "print(\"자리수의 합은:\", str(sum))\n"
      ],
      "metadata": {
        "colab": {
          "base_uri": "https://localhost:8080/"
        },
        "id": "mK1CPQkTKXEo",
        "outputId": "23be7b87-ebca-45c7-873e-29421c29bde4"
      },
      "execution_count": null,
      "outputs": [
        {
          "output_type": "stream",
          "name": "stdout",
          "text": [
            "정수를 입력하시오. :1234\n",
            "자리수의 합은: 10\n"
          ]
        }
      ]
    },
    {
      "cell_type": "markdown",
      "source": [
        "4 사용자로부터 두 점의 좌표 (xl, yl)과 (x2, y2)를 입력받아서 두 점 사이의 거리를 계산하는 프로그램을 작선해보자 스크렵트 모드로 작성하라 거리는 다음 식으로 계산 한다.\n"
      ],
      "metadata": {
        "id": "LyTf9O-JKXPt"
      }
    },
    {
      "cell_type": "code",
      "source": [
        "x1 = int(input(\"x1값을 입렵하시오.:\"))\n",
        "y1 = int(input(\"y1값을 입렵하시오.:\"))\n",
        "x2 = int(input(\"x2값을 입렵하시오.:\"))\n",
        "y2 = int(input(\"y2값을 입렵하시오.:\"))\n",
        "dist = ((x2 - x1) **2 +(y2 -y1) **2)**0.5\n",
        "print(\"두점 사이의 거리는?\", dist, \"입니다.\")"
      ],
      "metadata": {
        "colab": {
          "base_uri": "https://localhost:8080/"
        },
        "id": "Ats8__cOKYIm",
        "outputId": "7e9ef305-d936-4b67-f8c4-44a3bb2c235f"
      },
      "execution_count": null,
      "outputs": [
        {
          "output_type": "stream",
          "name": "stdout",
          "text": [
            "x1값을 입렵하시오.:0\n",
            "y1값을 입렵하시오.:0\n",
            "x2값을 입렵하시오.:100\n",
            "y2값을 입렵하시오.:100\n",
            "두점 사이의 거리는? 141.4213562373095 입니다.\n"
          ]
        }
      ]
    },
    {
      "cell_type": "markdown",
      "source": [
        "5 1번문제에서 계산한거러가맞는지, 터틀그래퍽으로 확인해보자. 거북이를 읜쪽으로 45 도회전하여 141만큼 젼진시킨다. 다시 거북이 를 (0, 0)으로 이동하고 0도를 가러키게 한 후 에 100만큼 전진하고 왼쪽으로 90도 회전하여 100만큼 전진한다. 화면에 그러진 직선이 일치 하는가?"
      ],
      "metadata": {
        "id": "KuZvCQPzKYWx"
      }
    },
    {
      "cell_type": "code",
      "source": [
        "import turtle\n",
        "t = turtle.Turtle()\n",
        "t.shape(\"turtle\")\n",
        "t.lt(45)\n",
        "t.fd(141)\n",
        "t.setheading(0)\n",
        "t.goto(0,0)\n",
        "t.fd(100)\n",
        "t.lt(90)\n",
        "t.fd(100)"
      ],
      "metadata": {
        "id": "kz_eGoSoKYof"
      },
      "execution_count": null,
      "outputs": []
    },
    {
      "cell_type": "markdown",
      "source": [
        "6번 사용자로 부터 두점을 업력받아 터틀 그래퍽을 이용하여 두점을 연결하는 직선을그\n",
        "린다 직선의 끝점에 직션의 길이를 계산하여 츨력해보자"
      ],
      "metadata": {
        "id": "rstRkOy1KY0W"
      }
    },
    {
      "cell_type": "code",
      "source": [
        "import turtle\n",
        "t = turtle.Turtle()\n",
        "t.shape(\"turtle\")\n",
        "x1 = int(input(\"x1 :\"))\n",
        "x1 :0\n",
        "y1 = int(input(\"y1 :\"))\n",
        "y1 :0\n",
        "x2 = int(input(\"x2 :\"))\n",
        "x2 :100\n",
        "y2 = int(input(\"y2 :\"))\n",
        "y2 :100\n",
        "dist = ((x1 - x2)**2 +(y1 -y2) **2)**0.5\n",
        "\n",
        "t.up()\n",
        "t.goto(x1,x1)\n",
        "t.down()\n",
        "t.goto(x2,y2)\n",
        "t.write(\"점의 길이 = \" + str(dist))"
      ],
      "metadata": {
        "id": "GEAEfYdWKaqi"
      },
      "execution_count": null,
      "outputs": []
    },
    {
      "cell_type": "markdown",
      "source": [
        "7 파이썬에서 timeO을호출하면 1970닌 1월 1일 이후홀러은 전체 초가반환된다 이것을\n",
        "적절하게 나누거나 나머지를 구해서 현재 시간의 시와 분을 계산할 수 있을까?"
      ],
      "metadata": {
        "id": "I2mQBjI5Ka8u"
      }
    },
    {
      "cell_type": "code",
      "source": [],
      "metadata": {
        "id": "QuGwkng1KbTv"
      },
      "execution_count": null,
      "outputs": []
    },
    {
      "cell_type": "markdown",
      "source": [
        "8 움직이는 물체의 운동에너지를 계산해보자. 물체의 에너지를 계산하는 식은 1/2*무게*\n",
        "속도*2이다."
      ],
      "metadata": {
        "id": "JbEBD0VoKbxX"
      }
    },
    {
      "cell_type": "code",
      "source": [],
      "metadata": {
        "id": "ciqC9rAwKcCD"
      },
      "execution_count": null,
      "outputs": []
    }
  ]
}